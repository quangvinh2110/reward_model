{
 "cells": [
  {
   "cell_type": "code",
   "execution_count": 2,
   "metadata": {},
   "outputs": [],
   "source": [
    "import json\n",
    "import random\n",
    "from datasets import load_dataset"
   ]
  },
  {
   "cell_type": "code",
   "execution_count": 3,
   "metadata": {},
   "outputs": [],
   "source": [
    "dataset = load_dataset('Qwen/ProcessBench', split='olympiadbench')"
   ]
  },
  {
   "cell_type": "code",
   "execution_count": 12,
   "metadata": {},
   "outputs": [],
   "source": [
    "with open(\"./resources/prompts/STATE_EXTRACTING_PROMPT.txt\") as f:\n",
    "    STATE_EXTRACTING_PROMPT = f.read()"
   ]
  },
  {
   "cell_type": "code",
   "execution_count": 16,
   "metadata": {},
   "outputs": [
    {
     "name": "stdout",
     "output_type": "stream",
     "text": [
      "Sample Id: 817\n",
      "Step Id: 1\n",
      "==========\n",
      "The geometric sequence with $n$ terms $t_{1}, t_{2}, \\ldots, t_{n-1}, t_{n}$ has $t_{1} t_{n}=3$. Also, the product of all $n$ terms equals 59049 (that is, $t_{1} t_{2} \\cdots t_{n-1} t_{n}=59049$ ). Determine the value of $n$.\n",
      "\n",
      "(A geometric sequence is a sequence in which each term after the first is obtained from the previous term by multiplying it by a constant. For example, $3,6,12$ is a geometric sequence with three terms.)\n",
      "==========\n",
      "Given that \\( t_1 \\cdot t_n = 3 \\), we substitute \\( t_n = t_1r^{n-1} \\) into this equation to get:\n",
      "\\[ t_1 \\cdot t_1r^{n-1} = 3 \\]\n",
      "\\[ t_1^2 r^{n-1} = 3 \\]\n",
      "==========\n",
      "You are given one reasoning step from a mathematical solution. Your job is to read exactly that step, ignore everything else, and pull out *only* the new fact(s), result(s), or object(s) that this step *adds* to the proof. We call each such new piece of information a “state.” Don’t worry about labeling or classifying the state—just list each one as a separate bullet point, in natural mathematical language.\n",
      "\n",
      "A “state” is any of:\n",
      "- A numeric or symbolic expression newly computed (e.g. “DC = 24/5,” “x = (–b ± √(b²–4ac))/(2a)”).\n",
      "- A new object or construction introduced (e.g. “Let D be the foot of the perpendicular from B to AC”).\n",
      "- A relation or constraint established (e.g. “AB ⟂ DC,” “x ≠ 0,” “n is even”).\n",
      "- A mini‐lemma or formula invocation (e.g. “Area(ΔABC) = ½·base·height,” “By Cauchy–Schwarz, …”).\n",
      "\n",
      "**Do NOT** include:\n",
      "- Justification or proof details beyond a very short phrase.\n",
      "- Anything that isn’t a concrete fact used later.\n",
      "\n",
      "---\n",
      "\n",
      "**Example**  \n",
      "Problem:  \n",
      "In triangle \\(ABC\\), \\(AB = 5\\), \\(AC = 6\\), and \\(\\tan \\angle BAC = -\\tfrac{4}{3}\\). Compute the area of \\(\\triangle ABC\\).  \n",
      "\n",
      "Step to analyze (Step t):  \n",
      "Now, let \\(D\\) be the foot of the perpendicular from \\(B\\) to \\(AC\\). Then \\(\\angle BDC = 90^\\circ\\). By projecting, we find \\(DC = \\tfrac{24}{5}\\).\n",
      "\n",
      "State:  \n",
      "```\n",
      "[\n",
      "    \"\\(D\\) is the foot of the perpendicular from \\(B\\) to \\(AC\\)\",\n",
      "    \"\\(\\angle BDC = 90^\\circ\\)\",\n",
      "    \"\\(DC = \\tfrac{24}{5}\\)\"\n",
      "]\n",
      "```\n",
      "\n",
      "---\n",
      "Problem:\n",
      "The geometric sequence with $n$ terms $t_{1}, t_{2}, \\ldots, t_{n-1}, t_{n}$ has $t_{1} t_{n}=3$. Also, the product of all $n$ terms equals 59049 (that is, $t_{1} t_{2} \\cdots t_{n-1} t_{n}=59049$ ). Determine the value of $n$.\n",
      "\n",
      "(A geometric sequence is a sequence in which each term after the first is obtained from the previous term by multiplying it by a constant. For example, $3,6,12$ is a geometric sequence with three terms.)\n",
      "\n",
      "Step to analyze (Step t):\n",
      "Given that \\( t_1 \\cdot t_n = 3 \\), we substitute \\( t_n = t_1r^{n-1} \\) into this equation to get:\n",
      "\\[ t_1 \\cdot t_1r^{n-1} = 3 \\]\n",
      "\\[ t_1^2 r^{n-1} = 3 \\]\n",
      "\n",
      "State:\n",
      "\n",
      "\n",
      "\n"
     ]
    }
   ],
   "source": [
    "sample_id = random.choice(range(len(dataset)))\n",
    "step_id = random.choice(range(len(dataset[sample_id][\"steps\"])))\n",
    "print(f\"Sample Id: {sample_id}\")\n",
    "print(f\"Step Id: {step_id}\")\n",
    "print(\"=\"*10)\n",
    "print(dataset[sample_id][\"problem\"])\n",
    "print(\"=\"*10)\n",
    "print(dataset[sample_id][\"steps\"][step_id])\n",
    "print(\"=\"*10)\n",
    "print(STATE_EXTRACTING_PROMPT.format(problem=dataset[sample_id][\"problem\"], step=dataset[sample_id][\"steps\"][step_id]))"
   ]
  },
  {
   "cell_type": "code",
   "execution_count": 15,
   "metadata": {},
   "outputs": [
    {
     "name": "stdout",
     "output_type": "stream",
     "text": [
      "You are given one reasoning step from a mathematical solution. Your job is to read exactly that step, ignore everything else, and pull out *only* the new fact(s), result(s), or object(s) that this step *adds* to the proof. We call each such new piece of information a “state.” Don’t worry about labeling or classifying the state—just list each one as a separate bullet point, in natural mathematical language.\n",
      "\n",
      "A “state” is any of:\n",
      "- A numeric or symbolic expression newly computed (e.g. “DC = 24/5,” “x = (–b ± √(b²–4ac))/(2a)”).\n",
      "- A new object or construction introduced (e.g. “Let D be the foot of the perpendicular from B to AC”).\n",
      "- A relation or constraint established (e.g. “AB ⟂ DC,” “x ≠ 0,” “n is even”).\n",
      "- A mini‐lemma or formula invocation (e.g. “Area(ΔABC) = ½·base·height,” “By Cauchy–Schwarz, …”).\n",
      "\n",
      "**Do NOT** include:\n",
      "- Justification or proof details beyond a very short phrase.\n",
      "- Anything that isn’t a concrete fact used later.\n",
      "\n",
      "---\n",
      "\n",
      "**Example**  \n",
      "Problem:  \n",
      "In triangle \\(ABC\\), \\(AB = 5\\), \\(AC = 6\\), and \\(\\tan \\angle BAC = -\\tfrac{4}{3}\\). Compute the area of \\(\\triangle ABC\\).  \n",
      "\n",
      "Step to analyze (Step t):  \n",
      "Now, let \\(D\\) be the foot of the perpendicular from \\(B\\) to \\(AC\\). Then \\(\\angle BDC = 90^\\circ\\). By projecting, we find \\(DC = \\tfrac{24}{5}\\).\n",
      "\n",
      "State:  \n",
      "```\n",
      "[\n",
      "    \"\\(D\\) is the foot of the perpendicular from \\(B\\) to \\(AC\\)\",\n",
      "    \"\\(\\angle BDC = 90^\\circ\\)\",\n",
      "    \"\\(DC = \\tfrac{24}{5}\\)\"\n",
      "]\n",
      "```\n",
      "\n",
      "---\n",
      "Problem:\n",
      "The function $f(x)$ has the property that $f(2 x+3)=2 f(x)+3$ for all $x$. If $f(0)=6$, what is the value of $f(9)$ ?\n",
      "\n",
      "Step to analyze (Step t):\n",
      "Third, finding \\(f(9)\\):\n",
      "- To find \\(f(9)\\), we set \\(x = 3\\) in the given property, since \\(2*3 + 3 = 9\\).\n",
      "- Thus, \\(f(9) = 2f(3) + 3\\).\n",
      "- We know \\(f(3) = 15\\), so \\(f(9) = 2*15 + 3 = 30 + 3 = 33\\).\n",
      "\n",
      "State:\n",
      "\n",
      "\n",
      "\n"
     ]
    }
   ],
   "source": [
    "print(STATE_EXTRACTING_PROMPT.format(problem=dataset[502][\"problem\"], step=dataset[502][\"steps\"][4]))"
   ]
  },
  {
   "cell_type": "code",
   "execution_count": null,
   "metadata": {},
   "outputs": [],
   "source": [
    "[\n",
    "    \"f(3) = 15\",\n",
    "    \"f(6) = 2f(1.5) + 3\",\n",
    "    \"f(6) = 33\"\n",
    "]"
   ]
  }
 ],
 "metadata": {
  "kernelspec": {
   "display_name": "tod",
   "language": "python",
   "name": "python3"
  },
  "language_info": {
   "codemirror_mode": {
    "name": "ipython",
    "version": 3
   },
   "file_extension": ".py",
   "mimetype": "text/x-python",
   "name": "python",
   "nbconvert_exporter": "python",
   "pygments_lexer": "ipython3",
   "version": "3.11.11"
  }
 },
 "nbformat": 4,
 "nbformat_minor": 2
}
