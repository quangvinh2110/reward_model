{
 "cells": [
  {
   "cell_type": "code",
   "execution_count": 26,
   "metadata": {},
   "outputs": [],
   "source": [
    "import json\n",
    "import random\n",
    "from datasets import load_dataset"
   ]
  },
  {
   "cell_type": "code",
   "execution_count": 3,
   "metadata": {},
   "outputs": [],
   "source": [
    "dataset = load_dataset('Qwen/ProcessBench', split='olympiadbench')"
   ]
  },
  {
   "cell_type": "code",
   "execution_count": 12,
   "metadata": {},
   "outputs": [],
   "source": [
    "with open(\"./resources/prompts/STATE_EXTRACTING_PROMPT.txt\") as f:\n",
    "    STATE_EXTRACTING_PROMPT = f.read()"
   ]
  },
  {
   "cell_type": "code",
   "execution_count": 27,
   "metadata": {},
   "outputs": [
    {
     "name": "stdout",
     "output_type": "stream",
     "text": [
      "Sample Id: 797\n",
      "Step Id: 3\n",
      "==========\n",
      "Let $T=8640$. Compute $\\left\\lfloor\\log _{4}\\left(1+2+4+\\cdots+2^{T}\\right)\\right\\rfloor$.\n",
      "==========\n",
      "Since \\(\\log_a b = \\frac{\\log_c b}{\\log_c a}\\) for any positive real numbers \\(a, b, c\\) (where \\(a \\neq 1\\)), we can rewrite our expression using natural logarithms or logarithms in base 10 for convenience:\n",
      "\\[\\left\\lfloor\\log _{4}\\left(2^{8641} - 1\\right)\\right\\rfloor = \\left\\lfloor\\frac{\\log \\left(2^{8641} - 1\\right)}{\\log 4}\\right\\rfloor\\]\n",
      "==========\n",
      "You are given one reasoning step from a mathematical solution. Your job is to read exactly that step, ignore everything else, and pull out *only* the new fact(s), result(s), or object(s) that this step *adds* to the proof. We call each such new piece of information a “state.” Don’t worry about labeling or classifying the state—just list each one as a separate bullet point, in natural mathematical language.\n",
      "\n",
      "A “state” is any of:\n",
      "- A numeric or symbolic expression newly computed (e.g. “DC = 24/5,” “x = (–b ± √(b²–4ac))/(2a)”).\n",
      "- A new object or construction introduced (e.g. “Let D be the foot of the perpendicular from B to AC”).\n",
      "- A relation or constraint established (e.g. “AB ⟂ DC,” “x ≠ 0,” “n is even”).\n",
      "- A mini‐lemma or formula invocation (e.g. “Area(ΔABC) = ½·base·height,” “By Cauchy–Schwarz, …”).\n",
      "\n",
      "**Do NOT** include:\n",
      "- Justification or proof details beyond a very short phrase.\n",
      "- Anything that isn’t a concrete fact used later.\n",
      "\n",
      "---\n",
      "\n",
      "**Example**  \n",
      "Problem:  \n",
      "In triangle \\(ABC\\), \\(AB = 5\\), \\(AC = 6\\), and \\(\\tan \\angle BAC = -\\tfrac{4}{3}\\). Compute the area of \\(\\triangle ABC\\).  \n",
      "\n",
      "Step to analyze (Step t):  \n",
      "Now, let \\(D\\) be the foot of the perpendicular from \\(B\\) to \\(AC\\). Then \\(\\angle BDC = 90^\\circ\\). By projecting, we find \\(DC = \\tfrac{24}{5}\\).\n",
      "\n",
      "State:  \n",
      "```\n",
      "[\n",
      "    \"\\(D\\) is the foot of the perpendicular from \\(B\\) to \\(AC\\)\",\n",
      "    \"\\(\\angle BDC = 90^\\circ\\)\",\n",
      "    \"\\(DC = \\tfrac{24}{5}\\)\"\n",
      "]\n",
      "```\n",
      "\n",
      "---\n",
      "Problem:\n",
      "Let $T=8640$. Compute $\\left\\lfloor\\log _{4}\\left(1+2+4+\\cdots+2^{T}\\right)\\right\\rfloor$.\n",
      "\n",
      "Step to analyze (Step t):\n",
      "Since \\(\\log_a b = \\frac{\\log_c b}{\\log_c a}\\) for any positive real numbers \\(a, b, c\\) (where \\(a \\neq 1\\)), we can rewrite our expression using natural logarithms or logarithms in base 10 for convenience:\n",
      "\\[\\left\\lfloor\\log _{4}\\left(2^{8641} - 1\\right)\\right\\rfloor = \\left\\lfloor\\frac{\\log \\left(2^{8641} - 1\\right)}{\\log 4}\\right\\rfloor\\]\n",
      "\n",
      "State:\n",
      "\n",
      "\n",
      "\n"
     ]
    }
   ],
   "source": [
    "sample_id = random.choice(range(len(dataset)))\n",
    "step_id = random.choice(range(len(dataset[sample_id][\"steps\"])))\n",
    "print(f\"Sample Id: {sample_id}\")\n",
    "print(f\"Step Id: {step_id}\")\n",
    "print(\"=\"*10)\n",
    "print(dataset[sample_id][\"problem\"])\n",
    "print(\"=\"*10)\n",
    "print(dataset[sample_id][\"steps\"][step_id])\n",
    "print(\"=\"*10)\n",
    "print(STATE_EXTRACTING_PROMPT.format(problem=dataset[sample_id][\"problem\"], step=dataset[sample_id][\"steps\"][step_id]))"
   ]
  },
  {
   "cell_type": "code",
   "execution_count": 33,
   "metadata": {},
   "outputs": [
    {
     "name": "stdout",
     "output_type": "stream",
     "text": [
      "You are given one reasoning step from a mathematical solution. Your job is to read exactly that step, ignore everything else, and pull out *only* the new fact(s), result(s), or object(s) that this step *adds* to the proof. We call each such new piece of information a “state.” Don’t worry about labeling or classifying the state—just list each one as a separate bullet point, in natural mathematical language.\n",
      "\n",
      "A “state” is any of:\n",
      "- A numeric or symbolic expression newly computed (e.g. “DC = 24/5,” “x = (–b ± √(b²–4ac))/(2a)”).\n",
      "- A new object or construction introduced (e.g. “Let D be the foot of the perpendicular from B to AC”).\n",
      "- A relation or constraint established (e.g. “AB ⟂ DC,” “x ≠ 0,” “n is even”).\n",
      "- A mini‐lemma or formula invocation (e.g. “Area(ΔABC) = ½·base·height,” “By Cauchy–Schwarz, …”).\n",
      "\n",
      "**Do NOT** include:\n",
      "- Justification or proof details beyond a very short phrase.\n",
      "- Anything that isn’t a concrete fact used later.\n",
      "\n",
      "---\n",
      "\n",
      "**Example**  \n",
      "Problem:  \n",
      "In triangle \\(ABC\\), \\(AB = 5\\), \\(AC = 6\\), and \\(\\tan \\angle BAC = -\\tfrac{4}{3}\\). Compute the area of \\(\\triangle ABC\\).  \n",
      "\n",
      "Step to analyze (Step t):  \n",
      "Now, let \\(D\\) be the foot of the perpendicular from \\(B\\) to \\(AC\\). Then \\(\\angle BDC = 90^\\circ\\). By projecting, we find \\(DC = \\tfrac{24}{5}\\).\n",
      "\n",
      "State:  \n",
      "```\n",
      "[\n",
      "    \"\\(D\\) is the foot of the perpendicular from \\(B\\) to \\(AC\\)\",\n",
      "    \"\\(\\angle BDC = 90^\\circ\\)\",\n",
      "    \"\\(DC = \\tfrac{24}{5}\\)\"\n",
      "]\n",
      "```\n",
      "\n",
      "---\n",
      "Problem:\n",
      "The function $f(x)$ has the property that $f(2 x+3)=2 f(x)+3$ for all $x$. If $f(0)=6$, what is the value of $f(9)$ ?\n",
      "\n",
      "Step to analyze (Step t):\n",
      "(0) To find the value of \\(f(9)\\), let's use the given property of the function \\(f(x)\\) iteratively, starting from the known value \\(f(0) = 6\\). Given: \\[f(2x + 3) = 2f(x) + 3\\]\n",
      "(1) We know \\(f(0) = 6\\), so let's apply this to our function property:\n",
      "(2) First, finding \\(f(3)\\):\n",
      "- Set \\(x = 0\\) in the given property: \\(f(2*0 + 3) = 2f(0) + 3\\).\n",
      "- This simplifies to \\(f(3) = 2*6 + 3 = 12 + 3 = 15\\).\n",
      "(3) Second, finding \\(f(6)\\):\n",
      "- Now, let's set \\(x = 1.5\\) (since \\(2*1.5 + 3 = 6\\)) in the given property.\n",
      "- We have \\(f(6) = 2f(1.5) + 3\\).\n",
      "- We need \\(f(1.5)\\), which we can get by setting \\(x = 0\\) again but considering the transformation \\(2x + 3 = 3\\), which was our previous step.\n",
      "- From the previous step, \\(f(3) = 15\\), and if we consider \\(x = 0\\), then \\(2*0 + 3 = 3\\), which means \\(f(3) = 2f(0) + 3\\). Since we already know \\(f(3) = 15\\), we confirm this step as consistent with our initial condition.\n",
      "- But, we aimed to directly calculate \\(f(6)\\) using \\(f(3) = 15\\).\n",
      "- Using the property \\(f(2x + 3) = 2f(x) + 3\\), let \\(x = 1.5\\) gives us \\(f(6) = 2f(1.5) + 3\\). Since \\(f(3) = 15\\), and considering \\(x = 1.5\\) implies \\(2*1.5 + 3 = 6\\), we can infer \\(f(6) = 2*15 + 3 = 30 + 3 = 33\\).\n",
      "(4) Third, finding \\(f(9)\\):\n",
      "- To find \\(f(9)\\), we set \\(x = 3\\) in the given property, since \\(2*3 + 3 = 9\\).\n",
      "- Thus, \\(f(9) = 2f(3) + 3\\).\n",
      "- We know \\(f(3) = 15\\), so \\(f(9) = 2*15 + 3 = 30 + 3 = 33\\).\n",
      "(5) Therefore, the value of \\(f(9)\\) is \\(33\\).\n",
      "\n",
      "State:\n",
      "\n",
      "\n",
      "\n"
     ]
    }
   ],
   "source": [
    "print(STATE_EXTRACTING_PROMPT.format(problem=dataset[502][\"problem\"], step=\"\\n\".join([f\"({i}) {step}\" for i, step in enumerate(dataset[502][\"steps\"])])))"
   ]
  },
  {
   "cell_type": "code",
   "execution_count": null,
   "metadata": {},
   "outputs": [],
   "source": [
    "[\n",
    "    \"f(3) = 15\",\n",
    "    \"f(6) = 2f(1.5) + 3\",\n",
    "    \"f(6) = 33\"\n",
    "]"
   ]
  },
  {
   "cell_type": "code",
   "execution_count": 23,
   "metadata": {},
   "outputs": [
    {
     "name": "stdout",
     "output_type": "stream",
     "text": [
      "0 0 None\n",
      "1 1 None\n",
      "2 2 None\n",
      "3 3 None\n",
      "4 4 None\n",
      "5 5 None\n",
      "6 6 None\n",
      "7 7 None\n",
      "8 8 None\n",
      "9 9 None\n"
     ]
    }
   ],
   "source": [
    "for id, (a, b) in enumerate(zip(range(10), None or [None]*10)):\n",
    "    print(id, a, b)\n",
    "\n"
   ]
  },
  {
   "cell_type": "code",
   "execution_count": 25,
   "metadata": {},
   "outputs": [
    {
     "data": {
      "text/plain": [
       "set()"
      ]
     },
     "execution_count": 25,
     "metadata": {},
     "output_type": "execute_result"
    }
   ],
   "source": [
    "None or set()"
   ]
  },
  {
   "cell_type": "code",
   "execution_count": null,
   "metadata": {},
   "outputs": [],
   "source": []
  },
  {
   "cell_type": "code",
   "execution_count": null,
   "metadata": {},
   "outputs": [],
   "source": []
  },
  {
   "cell_type": "code",
   "execution_count": null,
   "metadata": {},
   "outputs": [],
   "source": []
  },
  {
   "cell_type": "code",
   "execution_count": null,
   "metadata": {},
   "outputs": [],
   "source": []
  },
  {
   "cell_type": "code",
   "execution_count": 36,
   "metadata": {},
   "outputs": [],
   "source": [
    "tmp = [[1,2,3,4], [3,4,5,6], [3,4]]\n",
    "idx = [i for i, prompt_list in enumerate(tmp) for _ in range(len(prompt_list))]\n",
    "prompts = [prompt for prompt_list in prompts for prompt in prompt_list]\n"
   ]
  },
  {
   "cell_type": "code",
   "execution_count": 37,
   "metadata": {},
   "outputs": [
    {
     "data": {
      "text/plain": [
       "[0, 0, 0, 0, 1, 1, 1, 1, 2, 2]"
      ]
     },
     "execution_count": 37,
     "metadata": {},
     "output_type": "execute_result"
    }
   ],
   "source": [
    "idx"
   ]
  },
  {
   "cell_type": "code",
   "execution_count": null,
   "metadata": {},
   "outputs": [],
   "source": []
  }
 ],
 "metadata": {
  "kernelspec": {
   "display_name": "tod",
   "language": "python",
   "name": "python3"
  },
  "language_info": {
   "codemirror_mode": {
    "name": "ipython",
    "version": 3
   },
   "file_extension": ".py",
   "mimetype": "text/x-python",
   "name": "python",
   "nbconvert_exporter": "python",
   "pygments_lexer": "ipython3",
   "version": "3.11.11"
  }
 },
 "nbformat": 4,
 "nbformat_minor": 2
}
