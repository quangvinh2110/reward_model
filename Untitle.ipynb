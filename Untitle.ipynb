{
 "cells": [
  {
   "cell_type": "code",
   "execution_count": 1,
   "metadata": {},
   "outputs": [],
   "source": [
    "import json\n",
    "import random\n",
    "from datasets import load_dataset"
   ]
  },
  {
   "cell_type": "code",
   "execution_count": 2,
   "metadata": {},
   "outputs": [],
   "source": [
    "dataset = load_dataset('Qwen/ProcessBench', split='olympiadbench')"
   ]
  },
  {
   "cell_type": "code",
   "execution_count": 12,
   "metadata": {},
   "outputs": [],
   "source": [
    "with open(\"./resources/prompt_templates/DEPENDENCY_TRACKING_1.txt\") as f:\n",
    "    DEPENDENCY_TRACKING_PROMPT = f.read()"
   ]
  },
  {
   "cell_type": "code",
   "execution_count": 13,
   "metadata": {},
   "outputs": [
    {
     "name": "stdout",
     "output_type": "stream",
     "text": [
      "Sample Id: 201\n",
      "==========\n",
      "Suppose that $a(x+b(x+3))=2(x+6)$ for all values of $x$. Determine $a$ and $b$.\n",
      "==========\n",
      "You are an expert reasoning graph architect. Given a problem and a step-by-step solution, identify the **direct dependencies** between steps. For each step `t` (0-indexed), output a list of step indices that step `t` **directly requires** to justify its correctness. Adhere strictly to these rules:\n",
      "\n",
      "1. **Direct Use Only**:  \n",
      "   Include step `i` in step `t`'s dependencies **only if** step `t` explicitly uses the result, lemma, or output from step `i`. Ignore indirect dependencies.\n",
      "\n",
      "2. **Minimal & Non-Redundant**:  \n",
      "   - If step `t` uses identical information from multiple steps (e.g., the same lemma), include **only the earliest step** (smallest index).  \n",
      "   - The set must be the **minimal** required to verify step `t`.\n",
      "\n",
      "3. **Output Format**:  \n",
      "   - Return a JSON object with keys as step indices (integers) and values as sorted lists (ascending order).  \n",
      "   - Step `0` depends on nothing: its list is always `[]`.\n",
      "\n",
      "**Example 1**:  \n",
      "Problem:  \n",
      "Solve for x: 2x + 5 = 15  \n",
      "Steps:  \n",
      "[0] Subtract 5 from both sides: 2x = 10\n",
      "[1] Divide both sides by 2: x = 5  \n",
      "Output:  \n",
      "```json\n",
      "{\n",
      "  0: [],\n",
      "  1: [0]\n",
      "}\n",
      "```\n",
      "Explain:  \n",
      "- Step 0 requires no prior steps.  \n",
      "- Step 1 directly uses `2x = 10` (from step 0).  \n",
      "\n",
      "**Example 2**:  \n",
      "Problem:  \n",
      "Find the area of a circle with radius 5.  \n",
      "Steps:  \n",
      "[0] Recall the formula: Area = π * r²\n",
      "[1] Plug in radius: Area = π * 5²\n",
      "[2] Calculate 5²: 25\n",
      "[3] Multiply: Area = 25π \n",
      "Output:  \n",
      "```json\n",
      "{\n",
      "  0: [], \n",
      "  1: [0], \n",
      "  2: [1], \n",
      "  3: [1, 2]\n",
      "}\n",
      "```  \n",
      "Reasoning:  \n",
      "- Step 0: No dependencies.  \n",
      "- Step 1: Uses formula from step 0.  \n",
      "- Step 2: Just calculate `5²` from step 1.  \n",
      "- Step 3: Uses `π * 5²` (from step 1) and `25` (from step 2).  \n",
      "\n",
      "**Your Task**:  \n",
      "Given the problem and steps below, output the JSON dependency graph. **Only include direct dependencies** that satisfy the rules above.  \n",
      "\n",
      "Problem:  \n",
      "Suppose that $a(x+b(x+3))=2(x+6)$ for all values of $x$. Determine $a$ and $b$.\n",
      "\n",
      "Steps:  \n",
      "[0] To determine \\(a\\) and \\(b\\), we'll start by expanding the left side of the given equation: \\(a(x + b(x + 3)) = ax + ab(x + 3) = ax + abx + 3ab\\).\n",
      "[1] Now, let's equate this to the right side of the equation: \\(ax + abx + 3ab = 2(x + 6)\\). Expand the right side of the equation: \\(ax + abx + 3ab = 2x + 12\\).\n",
      "[2] Since this equation is true for all values of \\(x\\), we can compare the coefficients of \\(x\\) on both sides. The coefficient of \\(x\\) on the left side is \\((a + ab)\\) and on the right side is \\(2\\). Equating them gives us: \\(a + ab = 2\\) ... (Equation 1).\n",
      "[3] We can also compare the constant terms on both sides. On the left side, the constant term is \\(3ab\\), and on the right side, it's \\(12\\). Equating them gives us: \\(3ab = 12\\) ... (Equation 2).\n",
      "[4] Now, we can solve Equation 2 for \\(ab\\): \\(ab = 4\\).\n",
      "[5] Substituting this into Equation 1: \\(a + a(4) = 2\\). Simplifying, we get: \\(a + 4a = 2\\). Combining like terms, we have: \\(5a = 2\\). Solving for \\(a\\), we find: \\(a = \\frac{2}{5}\\).\n",
      "[6] Now, we know that \\(ab = 4\\), so substituting \\(a = \\frac{2}{5}\\): \\(\\frac{2}{5}b = 4\\). Solving for \\(b\\), we get: \\(b = 10\\).\n",
      "[7] Therefore, the values of \\(a\\) and \\(b\\) are: \\(\\boxed{a = \\frac{2}{5}, b = 10}\\).\n",
      "\n",
      "Output:\n",
      "\n"
     ]
    }
   ],
   "source": [
    "sample_id = random.choice(range(len(dataset)))\n",
    "print(f\"Sample Id: {sample_id}\")\n",
    "print(\"=\"*10)\n",
    "print(dataset[sample_id][\"problem\"])\n",
    "print(\"=\"*10)\n",
    "problem = dataset[sample_id][\"problem\"]\n",
    "tagged_response = \"\\n\".join([f\"[{i}] {step}\" for i, step in enumerate(dataset[sample_id][\"steps\"])])\n",
    "print(DEPENDENCY_TRACKING_PROMPT.format(\n",
    "    problem=problem, tagged_response=tagged_response\n",
    "))"
   ]
  },
  {
   "cell_type": "code",
   "execution_count": 9,
   "metadata": {},
   "outputs": [
    {
     "name": "stdout",
     "output_type": "stream",
     "text": [
      "Sample Id: 527\n",
      "Step Id: 7\n",
      "==========\n",
      "Square $K E N T$ has side length 20 . Point $M$ lies in the interior of $K E N T$ such that $\\triangle M E N$ is equilateral. Given that $K M^{2}=a-b \\sqrt{3}$, where $a$ and $b$ are integers, compute $b$.\n",
      "==========\n",
      "Substituting the value of \\( x^2 \\) from the previous step, we get \\( KM^2 = 20^2 + \\frac{1600 - 1200\\sqrt{3}}{3} \\).\n",
      "==========\n",
      "You are an expert in logical dependency analysis for step-by-step problem solving.\n",
      "\n",
      "**Task: **\n",
      "Given a problem statement, a current step t, and a window of k previous steps, identify the **direct dependencies** of step t by outputting the indexes of the previous steps that step t **explicitly and necessarily relies on**. Only include steps whose results or lemmas are directly used in step t such that, if those steps are correct, step t can be verified independently.\n",
      "\n",
      "**Input Format:**\n",
      "- **Problem:** [Problem description]\n",
      "- **Previous Steps:**\n",
      "  - [index-1] [Step description]\n",
      "  . . .\n",
      "  - [index-k] [Step description]\n",
      "- **Current Step:**\n",
      "  - [index-t] [Step description]\n",
      "\n",
      "**Output Format:**\n",
      "- Return a list [index1, index2,...] of step indexes (e.g., [2, 5]).\n",
      "- **Only include steps directly referenced or required by step t.**\n",
      "- If no dependencies exist, return [].\n",
      "- Please put your final answer (i.e., the list) in \\boxed{}.\n",
      "\n",
      "**Guidelines:**\n",
      "1. **Direct Dependencies Only:** Include a step only if step t explicitly uses its result, lemma, or intermediate value. Do **not** include steps that are indirectly related (e.g., earlier steps in a chain of reasoning not directly used in step t).\n",
      "2. **Minimality:** The list should be the minimal set required to verify step t.\n",
      "3. **Assume Correctness:** Assume all listed dependencies are correct; your task is to identify dependencies, not validate correctness.\n",
      "4. **Earliest-Step Priority:** If multiple steps (e.g., step i and step j, where i < j) provide identical necessary information for step t, output only i (the earliest).\n",
      "\n",
      "\n",
      "**Example:**\n",
      "Problem: Solve for x: 2x + 4 = 12\n",
      "Previous Steps:\n",
      "[0] Subtract 4 from both sides: 2x = 8\n",
      "[1] Divide both sides by 2: x = 4\n",
      "Current Step: \n",
      "[2] Verify the solution by plugging x=4 into the original equation.\n",
      "Output: \\boxed{[1]} (Step 3 directly depends on Step 2’s result, x=4).\n",
      "\n",
      "---\n",
      "Problem: Square $K E N T$ has side length 20 . Point $M$ lies in the interior of $K E N T$ such that $\\triangle M E N$ is equilateral. Given that $K M^{2}=a-b \\sqrt{3}$, where $a$ and $b$ are integers, compute $b$.\n",
      "Previous Steps:\n",
      "[0] To find \\( b \\), we'll start by analyzing the given situation. We are given a square \\( K E N T \\) with side length 20 and point \\( M \\) inside the square such that \\( \\triangle M E N \\) is an equilateral triangle. Let's denote the length of \\( M E = M N = x \\). Since \\( \\triangle M E N \\) is equilateral, all its sides are equal.\n",
      "[1] To calculate the area of the square \\( K E N T \\), we can use the formula for the area of a square, which is side length squared. Therefore, the area of \\( K E N T \\) is \\( 20^2 = 400 \\).\n",
      "[2] Next, we need to find the area of the equilateral triangle \\( \\triangle M E N \\). The formula for the area of an equilateral triangle is \\( \\frac{x^2 \\sqrt{3}}{4} \\). So, the area of \\( \\triangle M E N \\) is \\( \\frac{x^2 \\sqrt{3}}{4} \\).\n",
      "[3] Now, since point \\( M \\) lies inside the square, the area of the square minus the area of the equilateral triangle should be equal to the area of the smaller square formed by the points \\( K \\), \\( M \\), and the midpoints of the sides of the square. The area of the smaller square formed by the points \\( K \\), \\( M \\), and the midpoints of the sides of the square is \\( (10\\sqrt{3})^2 = 300 \\). This means that the area of the smaller square is 300.\n",
      "[4] Therefore, we have the equation \\( \\frac{x^2 \\sqrt{3}}{4} + 300 = 400 \\). Solving for \\( x^2 \\), we get \\( x^2 = \\frac{400 - \\frac{1200}{\\sqrt{3}}}{\\frac{\\sqrt{3}}{4}} \\).\n",
      "[5] Simplifying this further, we have \\( x^2 = \\frac{1600 - 1200\\sqrt{3}}{3} \\).\n",
      "[6] Now, let's look at \\( KM^2 \\). We know that \\( KM \\) is the hypotenuse of right triangle \\( \\triangle KEM \\), where \\( KE = 20 \\) and \\( ME = x \\). Using the Pythagorean Theorem, we can express \\( KM^2 \\) as \\( 20^2 + x^2 \\).\n",
      "Current Step:\n",
      "[7] Substituting the value of \\( x^2 \\) from the previous step, we get \\( KM^2 = 20^2 + \\frac{1600 - 1200\\sqrt{3}}{3} \\).\n",
      "Output:\n"
     ]
    }
   ],
   "source": [
    "sample_id = random.choice(range(len(dataset)))\n",
    "step_id = random.choice(range(1, len(dataset[sample_id][\"steps\"])))\n",
    "print(f\"Sample Id: {sample_id}\")\n",
    "print(f\"Step Id: {step_id}\")\n",
    "print(\"=\"*10)\n",
    "print(dataset[sample_id][\"problem\"])\n",
    "print(\"=\"*10)\n",
    "print(dataset[sample_id][\"steps\"][step_id])\n",
    "print(\"=\"*10)\n",
    "problem = dataset[sample_id][\"problem\"]\n",
    "tagged_previous_steps = \"\\n\".join([f\"[{i}] {step}\" for i, step in enumerate(dataset[sample_id][\"steps\"][:step_id])])\n",
    "tagged_current_step = f\"[{step_id}] {dataset[sample_id]['steps'][step_id]}\"\n",
    "print(DEPENDENCY_TRACKING_PROMPT.format(\n",
    "    problem=problem, tagged_previous_steps=tagged_previous_steps, tagged_current_step=tagged_current_step\n",
    "))"
   ]
  },
  {
   "cell_type": "code",
   "execution_count": 8,
   "metadata": {},
   "outputs": [],
   "source": [
    "# sample_id = random.choice(range(len(dataset)))\n",
    "# step_id = random.choice(range(len(dataset[sample_id][\"steps\"])))\n",
    "# print(f\"Sample Id: {sample_id}\")\n",
    "# print(f\"Step Id: {step_id}\")\n",
    "# print(\"=\"*10)\n",
    "# print(dataset[sample_id][\"problem\"])\n",
    "# print(\"=\"*10)\n",
    "# print(dataset[sample_id][\"steps\"][step_id])\n",
    "# print(\"=\"*10)\n",
    "# print(STATE_EXTRACTING_PROMPT.format(problem=dataset[sample_id][\"problem\"], step=dataset[sample_id][\"steps\"][step_id]))"
   ]
  },
  {
   "cell_type": "code",
   "execution_count": 33,
   "metadata": {},
   "outputs": [
    {
     "name": "stdout",
     "output_type": "stream",
     "text": [
      "You are given one reasoning step from a mathematical solution. Your job is to read exactly that step, ignore everything else, and pull out *only* the new fact(s), result(s), or object(s) that this step *adds* to the proof. We call each such new piece of information a “state.” Don’t worry about labeling or classifying the state—just list each one as a separate bullet point, in natural mathematical language.\n",
      "\n",
      "A “state” is any of:\n",
      "- A numeric or symbolic expression newly computed (e.g. “DC = 24/5,” “x = (–b ± √(b²–4ac))/(2a)”).\n",
      "- A new object or construction introduced (e.g. “Let D be the foot of the perpendicular from B to AC”).\n",
      "- A relation or constraint established (e.g. “AB ⟂ DC,” “x ≠ 0,” “n is even”).\n",
      "- A mini‐lemma or formula invocation (e.g. “Area(ΔABC) = ½·base·height,” “By Cauchy–Schwarz, …”).\n",
      "\n",
      "**Do NOT** include:\n",
      "- Justification or proof details beyond a very short phrase.\n",
      "- Anything that isn’t a concrete fact used later.\n",
      "\n",
      "---\n",
      "\n",
      "**Example**  \n",
      "Problem:  \n",
      "In triangle \\(ABC\\), \\(AB = 5\\), \\(AC = 6\\), and \\(\\tan \\angle BAC = -\\tfrac{4}{3}\\). Compute the area of \\(\\triangle ABC\\).  \n",
      "\n",
      "Step to analyze (Step t):  \n",
      "Now, let \\(D\\) be the foot of the perpendicular from \\(B\\) to \\(AC\\). Then \\(\\angle BDC = 90^\\circ\\). By projecting, we find \\(DC = \\tfrac{24}{5}\\).\n",
      "\n",
      "State:  \n",
      "```\n",
      "[\n",
      "    \"\\(D\\) is the foot of the perpendicular from \\(B\\) to \\(AC\\)\",\n",
      "    \"\\(\\angle BDC = 90^\\circ\\)\",\n",
      "    \"\\(DC = \\tfrac{24}{5}\\)\"\n",
      "]\n",
      "```\n",
      "\n",
      "---\n",
      "Problem:\n",
      "The function $f(x)$ has the property that $f(2 x+3)=2 f(x)+3$ for all $x$. If $f(0)=6$, what is the value of $f(9)$ ?\n",
      "\n",
      "Step to analyze (Step t):\n",
      "(0) To find the value of \\(f(9)\\), let's use the given property of the function \\(f(x)\\) iteratively, starting from the known value \\(f(0) = 6\\). Given: \\[f(2x + 3) = 2f(x) + 3\\]\n",
      "(1) We know \\(f(0) = 6\\), so let's apply this to our function property:\n",
      "(2) First, finding \\(f(3)\\):\n",
      "- Set \\(x = 0\\) in the given property: \\(f(2*0 + 3) = 2f(0) + 3\\).\n",
      "- This simplifies to \\(f(3) = 2*6 + 3 = 12 + 3 = 15\\).\n",
      "(3) Second, finding \\(f(6)\\):\n",
      "- Now, let's set \\(x = 1.5\\) (since \\(2*1.5 + 3 = 6\\)) in the given property.\n",
      "- We have \\(f(6) = 2f(1.5) + 3\\).\n",
      "- We need \\(f(1.5)\\), which we can get by setting \\(x = 0\\) again but considering the transformation \\(2x + 3 = 3\\), which was our previous step.\n",
      "- From the previous step, \\(f(3) = 15\\), and if we consider \\(x = 0\\), then \\(2*0 + 3 = 3\\), which means \\(f(3) = 2f(0) + 3\\). Since we already know \\(f(3) = 15\\), we confirm this step as consistent with our initial condition.\n",
      "- But, we aimed to directly calculate \\(f(6)\\) using \\(f(3) = 15\\).\n",
      "- Using the property \\(f(2x + 3) = 2f(x) + 3\\), let \\(x = 1.5\\) gives us \\(f(6) = 2f(1.5) + 3\\). Since \\(f(3) = 15\\), and considering \\(x = 1.5\\) implies \\(2*1.5 + 3 = 6\\), we can infer \\(f(6) = 2*15 + 3 = 30 + 3 = 33\\).\n",
      "(4) Third, finding \\(f(9)\\):\n",
      "- To find \\(f(9)\\), we set \\(x = 3\\) in the given property, since \\(2*3 + 3 = 9\\).\n",
      "- Thus, \\(f(9) = 2f(3) + 3\\).\n",
      "- We know \\(f(3) = 15\\), so \\(f(9) = 2*15 + 3 = 30 + 3 = 33\\).\n",
      "(5) Therefore, the value of \\(f(9)\\) is \\(33\\).\n",
      "\n",
      "State:\n",
      "\n",
      "\n",
      "\n"
     ]
    }
   ],
   "source": [
    "print(STATE_EXTRACTING_PROMPT.format(problem=dataset[502][\"problem\"], step=\"\\n\".join([f\"({i}) {step}\" for i, step in enumerate(dataset[502][\"steps\"])])))"
   ]
  },
  {
   "cell_type": "code",
   "execution_count": null,
   "metadata": {},
   "outputs": [],
   "source": [
    "[\n",
    "    \"f(3) = 15\",\n",
    "    \"f(6) = 2f(1.5) + 3\",\n",
    "    \"f(6) = 33\"\n",
    "]"
   ]
  },
  {
   "cell_type": "code",
   "execution_count": 23,
   "metadata": {},
   "outputs": [
    {
     "name": "stdout",
     "output_type": "stream",
     "text": [
      "0 0 None\n",
      "1 1 None\n",
      "2 2 None\n",
      "3 3 None\n",
      "4 4 None\n",
      "5 5 None\n",
      "6 6 None\n",
      "7 7 None\n",
      "8 8 None\n",
      "9 9 None\n"
     ]
    }
   ],
   "source": [
    "for id, (a, b) in enumerate(zip(range(10), None or [None]*10)):\n",
    "    print(id, a, b)\n",
    "\n"
   ]
  },
  {
   "cell_type": "code",
   "execution_count": 25,
   "metadata": {},
   "outputs": [
    {
     "data": {
      "text/plain": [
       "set()"
      ]
     },
     "execution_count": 25,
     "metadata": {},
     "output_type": "execute_result"
    }
   ],
   "source": [
    "None or set()"
   ]
  },
  {
   "cell_type": "code",
   "execution_count": null,
   "metadata": {},
   "outputs": [],
   "source": []
  },
  {
   "cell_type": "code",
   "execution_count": null,
   "metadata": {},
   "outputs": [],
   "source": []
  },
  {
   "cell_type": "code",
   "execution_count": null,
   "metadata": {},
   "outputs": [],
   "source": []
  },
  {
   "cell_type": "code",
   "execution_count": null,
   "metadata": {},
   "outputs": [],
   "source": []
  },
  {
   "cell_type": "code",
   "execution_count": 36,
   "metadata": {},
   "outputs": [],
   "source": [
    "tmp = [[1,2,3,4], [3,4,5,6], [3,4]]\n",
    "idx = [i for i, prompt_list in enumerate(tmp) for _ in range(len(prompt_list))]\n",
    "prompts = [prompt for prompt_list in prompts for prompt in prompt_list]\n"
   ]
  },
  {
   "cell_type": "code",
   "execution_count": 37,
   "metadata": {},
   "outputs": [
    {
     "data": {
      "text/plain": [
       "[0, 0, 0, 0, 1, 1, 1, 1, 2, 2]"
      ]
     },
     "execution_count": 37,
     "metadata": {},
     "output_type": "execute_result"
    }
   ],
   "source": [
    "idx"
   ]
  },
  {
   "cell_type": "code",
   "execution_count": null,
   "metadata": {},
   "outputs": [],
   "source": []
  }
 ],
 "metadata": {
  "kernelspec": {
   "display_name": "tod",
   "language": "python",
   "name": "python3"
  },
  "language_info": {
   "codemirror_mode": {
    "name": "ipython",
    "version": 3
   },
   "file_extension": ".py",
   "mimetype": "text/x-python",
   "name": "python",
   "nbconvert_exporter": "python",
   "pygments_lexer": "ipython3",
   "version": "3.11.11"
  }
 },
 "nbformat": 4,
 "nbformat_minor": 2
}
